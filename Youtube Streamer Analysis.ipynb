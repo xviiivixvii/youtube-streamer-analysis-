{
 "cells": [
  {
   "cell_type": "code",
   "execution_count": 136,
   "id": "4c952dd9-fd1d-46c5-b991-b5cac05c5b96",
   "metadata": {},
   "outputs": [],
   "source": [
    "#Data Exploration"
   ]
  },
  {
   "cell_type": "code",
   "execution_count": 2,
   "id": "c01ca53a-9d20-45ab-a3c7-8aaf23c8f312",
   "metadata": {},
   "outputs": [],
   "source": [
    "import numpy as np\n",
    "import pandas as pd\n",
    "import matplotlib as plt\n",
    "import seaborn as sns"
   ]
  },
  {
   "cell_type": "code",
   "execution_count": 6,
   "id": "dade0dab-b1eb-4d6b-9686-82a150274360",
   "metadata": {},
   "outputs": [],
   "source": [
    "data = pd.read_csv('youtubers_df.csv')"
   ]
  },
  {
   "cell_type": "code",
   "execution_count": 7,
   "id": "ae0dd909-1355-46f3-8d1e-46720aeef76d",
   "metadata": {},
   "outputs": [
    {
     "data": {
      "text/html": [
       "<div>\n",
       "<style scoped>\n",
       "    .dataframe tbody tr th:only-of-type {\n",
       "        vertical-align: middle;\n",
       "    }\n",
       "\n",
       "    .dataframe tbody tr th {\n",
       "        vertical-align: top;\n",
       "    }\n",
       "\n",
       "    .dataframe thead th {\n",
       "        text-align: right;\n",
       "    }\n",
       "</style>\n",
       "<table border=\"1\" class=\"dataframe\">\n",
       "  <thead>\n",
       "    <tr style=\"text-align: right;\">\n",
       "      <th></th>\n",
       "      <th>Rank</th>\n",
       "      <th>Username</th>\n",
       "      <th>Categories</th>\n",
       "      <th>Suscribers</th>\n",
       "      <th>Country</th>\n",
       "      <th>Visits</th>\n",
       "      <th>Likes</th>\n",
       "      <th>Comments</th>\n",
       "      <th>Links</th>\n",
       "    </tr>\n",
       "  </thead>\n",
       "  <tbody>\n",
       "    <tr>\n",
       "      <th>0</th>\n",
       "      <td>1</td>\n",
       "      <td>tseries</td>\n",
       "      <td>Música y baile</td>\n",
       "      <td>249500000.0</td>\n",
       "      <td>India</td>\n",
       "      <td>86200.0</td>\n",
       "      <td>2700.0</td>\n",
       "      <td>78.0</td>\n",
       "      <td>http://youtube.com/channel/UCq-Fj5jknLsUf-MWSy...</td>\n",
       "    </tr>\n",
       "    <tr>\n",
       "      <th>1</th>\n",
       "      <td>2</td>\n",
       "      <td>MrBeast</td>\n",
       "      <td>Videojuegos, Humor</td>\n",
       "      <td>183500000.0</td>\n",
       "      <td>Estados Unidos</td>\n",
       "      <td>117400000.0</td>\n",
       "      <td>5300000.0</td>\n",
       "      <td>18500.0</td>\n",
       "      <td>http://youtube.com/channel/UCX6OQ3DkcsbYNE6H8u...</td>\n",
       "    </tr>\n",
       "    <tr>\n",
       "      <th>2</th>\n",
       "      <td>3</td>\n",
       "      <td>CoComelon</td>\n",
       "      <td>Educación</td>\n",
       "      <td>165500000.0</td>\n",
       "      <td>Unknown</td>\n",
       "      <td>7000000.0</td>\n",
       "      <td>24700.0</td>\n",
       "      <td>0.0</td>\n",
       "      <td>http://youtube.com/channel/UCbCmjCuTUZos6Inko4...</td>\n",
       "    </tr>\n",
       "    <tr>\n",
       "      <th>3</th>\n",
       "      <td>4</td>\n",
       "      <td>SETIndia</td>\n",
       "      <td>NaN</td>\n",
       "      <td>162600000.0</td>\n",
       "      <td>India</td>\n",
       "      <td>15600.0</td>\n",
       "      <td>166.0</td>\n",
       "      <td>9.0</td>\n",
       "      <td>http://youtube.com/channel/UCpEhnqL0y41EpW2TvW...</td>\n",
       "    </tr>\n",
       "    <tr>\n",
       "      <th>4</th>\n",
       "      <td>5</td>\n",
       "      <td>KidsDianaShow</td>\n",
       "      <td>Animación, Juguetes</td>\n",
       "      <td>113500000.0</td>\n",
       "      <td>Unknown</td>\n",
       "      <td>3900000.0</td>\n",
       "      <td>12400.0</td>\n",
       "      <td>0.0</td>\n",
       "      <td>http://youtube.com/channel/UCk8GzjMOrta8yxDcKf...</td>\n",
       "    </tr>\n",
       "  </tbody>\n",
       "</table>\n",
       "</div>"
      ],
      "text/plain": [
       "   Rank       Username           Categories   Suscribers         Country  \\\n",
       "0     1        tseries       Música y baile  249500000.0           India   \n",
       "1     2        MrBeast   Videojuegos, Humor  183500000.0  Estados Unidos   \n",
       "2     3      CoComelon            Educación  165500000.0         Unknown   \n",
       "3     4       SETIndia                  NaN  162600000.0           India   \n",
       "4     5  KidsDianaShow  Animación, Juguetes  113500000.0         Unknown   \n",
       "\n",
       "        Visits      Likes  Comments  \\\n",
       "0      86200.0     2700.0      78.0   \n",
       "1  117400000.0  5300000.0   18500.0   \n",
       "2    7000000.0    24700.0       0.0   \n",
       "3      15600.0      166.0       9.0   \n",
       "4    3900000.0    12400.0       0.0   \n",
       "\n",
       "                                               Links  \n",
       "0  http://youtube.com/channel/UCq-Fj5jknLsUf-MWSy...  \n",
       "1  http://youtube.com/channel/UCX6OQ3DkcsbYNE6H8u...  \n",
       "2  http://youtube.com/channel/UCbCmjCuTUZos6Inko4...  \n",
       "3  http://youtube.com/channel/UCpEhnqL0y41EpW2TvW...  \n",
       "4  http://youtube.com/channel/UCk8GzjMOrta8yxDcKf...  "
      ]
     },
     "execution_count": 7,
     "metadata": {},
     "output_type": "execute_result"
    }
   ],
   "source": [
    "data.head()"
   ]
  },
  {
   "cell_type": "code",
   "execution_count": 8,
   "id": "ab126540-06c5-4f19-8be3-be95f29828ff",
   "metadata": {},
   "outputs": [
    {
     "data": {
      "text/plain": [
       "(1000, 9)"
      ]
     },
     "execution_count": 8,
     "metadata": {},
     "output_type": "execute_result"
    }
   ],
   "source": [
    "data.shape"
   ]
  },
  {
   "cell_type": "code",
   "execution_count": 9,
   "id": "e0ee540b-7e3b-4a2c-a854-4ed6de90316a",
   "metadata": {},
   "outputs": [
    {
     "data": {
      "text/plain": [
       "Index(['Rank', 'Username', 'Categories', 'Suscribers', 'Country', 'Visits',\n",
       "       'Likes', 'Comments', 'Links'],\n",
       "      dtype='object')"
      ]
     },
     "execution_count": 9,
     "metadata": {},
     "output_type": "execute_result"
    }
   ],
   "source": [
    "data.columns"
   ]
  },
  {
   "cell_type": "code",
   "execution_count": 10,
   "id": "04619204-b659-4c6a-b8fd-2be7336c7869",
   "metadata": {},
   "outputs": [
    {
     "name": "stdout",
     "output_type": "stream",
     "text": [
      "<class 'pandas.core.frame.DataFrame'>\n",
      "RangeIndex: 1000 entries, 0 to 999\n",
      "Data columns (total 9 columns):\n",
      " #   Column      Non-Null Count  Dtype  \n",
      "---  ------      --------------  -----  \n",
      " 0   Rank        1000 non-null   int64  \n",
      " 1   Username    1000 non-null   object \n",
      " 2   Categories  694 non-null    object \n",
      " 3   Suscribers  1000 non-null   float64\n",
      " 4   Country     1000 non-null   object \n",
      " 5   Visits      1000 non-null   float64\n",
      " 6   Likes       1000 non-null   float64\n",
      " 7   Comments    1000 non-null   float64\n",
      " 8   Links       1000 non-null   object \n",
      "dtypes: float64(4), int64(1), object(4)\n",
      "memory usage: 70.4+ KB\n"
     ]
    }
   ],
   "source": [
    "data.info()"
   ]
  },
  {
   "cell_type": "code",
   "execution_count": 20,
   "id": "9d784237-5166-4fd9-8f21-3cc2254498cd",
   "metadata": {},
   "outputs": [
    {
     "data": {
      "text/html": [
       "<div>\n",
       "<style scoped>\n",
       "    .dataframe tbody tr th:only-of-type {\n",
       "        vertical-align: middle;\n",
       "    }\n",
       "\n",
       "    .dataframe tbody tr th {\n",
       "        vertical-align: top;\n",
       "    }\n",
       "\n",
       "    .dataframe thead th {\n",
       "        text-align: right;\n",
       "    }\n",
       "</style>\n",
       "<table border=\"1\" class=\"dataframe\">\n",
       "  <thead>\n",
       "    <tr style=\"text-align: right;\">\n",
       "      <th></th>\n",
       "      <th>Rank</th>\n",
       "      <th>Suscribers</th>\n",
       "      <th>Visits</th>\n",
       "      <th>Likes</th>\n",
       "      <th>Comments</th>\n",
       "    </tr>\n",
       "  </thead>\n",
       "  <tbody>\n",
       "    <tr>\n",
       "      <th>count</th>\n",
       "      <td>1000.000000</td>\n",
       "      <td>1.000000e+03</td>\n",
       "      <td>1.000000e+03</td>\n",
       "      <td>1.000000e+03</td>\n",
       "      <td>1000.000000</td>\n",
       "    </tr>\n",
       "    <tr>\n",
       "      <th>mean</th>\n",
       "      <td>500.500000</td>\n",
       "      <td>2.189440e+07</td>\n",
       "      <td>1.209446e+06</td>\n",
       "      <td>5.363259e+04</td>\n",
       "      <td>1288.768000</td>\n",
       "    </tr>\n",
       "    <tr>\n",
       "      <th>std</th>\n",
       "      <td>288.819436</td>\n",
       "      <td>1.682775e+07</td>\n",
       "      <td>5.229942e+06</td>\n",
       "      <td>2.580457e+05</td>\n",
       "      <td>6778.188308</td>\n",
       "    </tr>\n",
       "    <tr>\n",
       "      <th>min</th>\n",
       "      <td>1.000000</td>\n",
       "      <td>1.170000e+07</td>\n",
       "      <td>0.000000e+00</td>\n",
       "      <td>0.000000e+00</td>\n",
       "      <td>0.000000</td>\n",
       "    </tr>\n",
       "    <tr>\n",
       "      <th>25%</th>\n",
       "      <td>250.750000</td>\n",
       "      <td>1.380000e+07</td>\n",
       "      <td>3.197500e+04</td>\n",
       "      <td>4.717500e+02</td>\n",
       "      <td>2.000000</td>\n",
       "    </tr>\n",
       "    <tr>\n",
       "      <th>50%</th>\n",
       "      <td>500.500000</td>\n",
       "      <td>1.675000e+07</td>\n",
       "      <td>1.744500e+05</td>\n",
       "      <td>3.500000e+03</td>\n",
       "      <td>67.000000</td>\n",
       "    </tr>\n",
       "    <tr>\n",
       "      <th>75%</th>\n",
       "      <td>750.250000</td>\n",
       "      <td>2.370000e+07</td>\n",
       "      <td>8.654750e+05</td>\n",
       "      <td>2.865000e+04</td>\n",
       "      <td>472.000000</td>\n",
       "    </tr>\n",
       "    <tr>\n",
       "      <th>max</th>\n",
       "      <td>1000.000000</td>\n",
       "      <td>2.495000e+08</td>\n",
       "      <td>1.174000e+08</td>\n",
       "      <td>5.300000e+06</td>\n",
       "      <td>154000.000000</td>\n",
       "    </tr>\n",
       "  </tbody>\n",
       "</table>\n",
       "</div>"
      ],
      "text/plain": [
       "              Rank    Suscribers        Visits         Likes       Comments\n",
       "count  1000.000000  1.000000e+03  1.000000e+03  1.000000e+03    1000.000000\n",
       "mean    500.500000  2.189440e+07  1.209446e+06  5.363259e+04    1288.768000\n",
       "std     288.819436  1.682775e+07  5.229942e+06  2.580457e+05    6778.188308\n",
       "min       1.000000  1.170000e+07  0.000000e+00  0.000000e+00       0.000000\n",
       "25%     250.750000  1.380000e+07  3.197500e+04  4.717500e+02       2.000000\n",
       "50%     500.500000  1.675000e+07  1.744500e+05  3.500000e+03      67.000000\n",
       "75%     750.250000  2.370000e+07  8.654750e+05  2.865000e+04     472.000000\n",
       "max    1000.000000  2.495000e+08  1.174000e+08  5.300000e+06  154000.000000"
      ]
     },
     "execution_count": 20,
     "metadata": {},
     "output_type": "execute_result"
    }
   ],
   "source": [
    "data.describe()"
   ]
  },
  {
   "cell_type": "code",
   "execution_count": null,
   "id": "57bb27d1-e74b-49a4-bc21-d527f60a60df",
   "metadata": {},
   "outputs": [],
   "source": [
    "#Data Cleaning"
   ]
  },
  {
   "cell_type": "code",
   "execution_count": 13,
   "id": "02f43e2b-f26b-4a4c-a3d9-49ee72373853",
   "metadata": {},
   "outputs": [
    {
     "data": {
      "text/plain": [
       "Rank            0\n",
       "Username        0\n",
       "Categories    306\n",
       "Suscribers      0\n",
       "Country         0\n",
       "Visits          0\n",
       "Likes           0\n",
       "Comments        0\n",
       "Links           0\n",
       "dtype: int64"
      ]
     },
     "execution_count": 13,
     "metadata": {},
     "output_type": "execute_result"
    }
   ],
   "source": [
    "data.isnull().sum()"
   ]
  },
  {
   "cell_type": "code",
   "execution_count": 23,
   "id": "53f6c674-2a5a-447f-a357-7ee7847829d2",
   "metadata": {},
   "outputs": [
    {
     "data": {
      "text/plain": [
       "<Axes: >"
      ]
     },
     "execution_count": 23,
     "metadata": {},
     "output_type": "execute_result"
    },
    {
     "data": {
      "image/png": "[encoded data removed]",
      "text/plain": [
       "<Figure size 640x480 with 2 Axes>"
      ]
     },
     "metadata": {},
     "output_type": "display_data"
    }
   ],
   "source": [
    "sns.heatmap(data.isnull())"
   ]
  },
  {
   "cell_type": "code",
   "execution_count": 24,
   "id": "ab032526-e61d-446b-9783-d41f7f0da9c6",
   "metadata": {},
   "outputs": [],
   "source": [
    "data.dropna(inplace=True)"
   ]
  },
  {
   "cell_type": "code",
   "execution_count": 26,
   "id": "cad19b56-2519-4fc1-95fc-baa9d0cff13d",
   "metadata": {},
   "outputs": [
    {
     "data": {
      "text/plain": [
       "False"
      ]
     },
     "execution_count": 26,
     "metadata": {},
     "output_type": "execute_result"
    }
   ],
   "source": [
    "data.duplicated().any()"
   ]
  },
  {
   "cell_type": "code",
   "execution_count": 27,
   "id": "d6009cc2-336f-4bf9-91d9-9c9429462425",
   "metadata": {},
   "outputs": [],
   "source": [
    "data=data.drop_duplicates()"
   ]
  },
  {
   "cell_type": "code",
   "execution_count": 28,
   "id": "5468bfe8-3c12-4a37-9eb1-3acf75395a89",
   "metadata": {},
   "outputs": [],
   "source": [
    "#trend Analysis"
   ]
  },
  {
   "cell_type": "code",
   "execution_count": null,
   "id": "5f2f9416-aeae-4bc2-a36b-4b95e35e6536",
   "metadata": {},
   "outputs": [],
   "source": [
    "#top youtube channels"
   ]
  },
  {
   "cell_type": "code",
   "execution_count": 34,
   "id": "4039c52a-0ffd-4460-afa5-437e4ca1e6aa",
   "metadata": {},
   "outputs": [
    {
     "data": {
      "text/plain": [
       "0          tseries\n",
       "1          MrBeast\n",
       "2        CoComelon\n",
       "3         SETIndia\n",
       "4    KidsDianaShow\n",
       "Name: Username, dtype: object"
      ]
     },
     "execution_count": 34,
     "metadata": {},
     "output_type": "execute_result"
    }
   ],
   "source": [
    "n = data.sort_values(by='Suscribers', ascending=False).head(5)\n",
    "n['Username']"
   ]
  },
  {
   "cell_type": "code",
   "execution_count": 36,
   "id": "c9867df9-ef5e-4761-b6c3-c100ce96331f",
   "metadata": {},
   "outputs": [
    {
     "ename": "AttributeError",
     "evalue": "module 'matplotlib' has no attribute 'title'",
     "output_type": "error",
     "traceback": [
      "\u001b[1;31m---------------------------------------------------------------------------\u001b[0m",
      "\u001b[1;31mAttributeError\u001b[0m                            Traceback (most recent call last)",
      "Cell \u001b[1;32mIn[36], line 2\u001b[0m\n\u001b[0;32m      1\u001b[0m sns\u001b[38;5;241m.\u001b[39mbarplot(x\u001b[38;5;241m=\u001b[39m\u001b[38;5;124m'\u001b[39m\u001b[38;5;124mUsername\u001b[39m\u001b[38;5;124m'\u001b[39m , y\u001b[38;5;241m=\u001b[39m\u001b[38;5;124m'\u001b[39m\u001b[38;5;124mSuscribers\u001b[39m\u001b[38;5;124m'\u001b[39m , data\u001b[38;5;241m=\u001b[39mn , color\u001b[38;5;241m=\u001b[39m\u001b[38;5;124m'\u001b[39m\u001b[38;5;124mpink\u001b[39m\u001b[38;5;124m'\u001b[39m)\n\u001b[1;32m----> 2\u001b[0m plt\u001b[38;5;241m.\u001b[39mtitle(\u001b[38;5;124m'\u001b[39m\u001b[38;5;124mTop 5 YouTube Channels by Suscribers\u001b[39m\u001b[38;5;124m'\u001b[39m)\n\u001b[0;32m      3\u001b[0m plt\u001b[38;5;241m.\u001b[39mxlabel(\u001b[38;5;124m'\u001b[39m\u001b[38;5;124mYouTube Channels Username\u001b[39m\u001b[38;5;124m'\u001b[39m)\n\u001b[0;32m      4\u001b[0m plt\u001b[38;5;241m.\u001b[39mylabel(\u001b[38;5;124m'\u001b[39m\u001b[38;5;124mSubscribers\u001b[39m\u001b[38;5;124m'\u001b[39m)\n",
      "File \u001b[1;32m~\\anaconda3\\Lib\\site-packages\\matplotlib\\_api\\__init__.py:217\u001b[0m, in \u001b[0;36mcaching_module_getattr.<locals>.__getattr__\u001b[1;34m(name)\u001b[0m\n\u001b[0;32m    215\u001b[0m \u001b[38;5;28;01mif\u001b[39;00m name \u001b[38;5;129;01min\u001b[39;00m props:\n\u001b[0;32m    216\u001b[0m     \u001b[38;5;28;01mreturn\u001b[39;00m props[name]\u001b[38;5;241m.\u001b[39m\u001b[38;5;21m__get__\u001b[39m(instance)\n\u001b[1;32m--> 217\u001b[0m \u001b[38;5;28;01mraise\u001b[39;00m \u001b[38;5;167;01mAttributeError\u001b[39;00m(\n\u001b[0;32m    218\u001b[0m     \u001b[38;5;124mf\u001b[39m\u001b[38;5;124m\"\u001b[39m\u001b[38;5;124mmodule \u001b[39m\u001b[38;5;132;01m{\u001b[39;00m\u001b[38;5;28mcls\u001b[39m\u001b[38;5;241m.\u001b[39m\u001b[38;5;18m__module__\u001b[39m\u001b[38;5;132;01m!r}\u001b[39;00m\u001b[38;5;124m has no attribute \u001b[39m\u001b[38;5;132;01m{\u001b[39;00mname\u001b[38;5;132;01m!r}\u001b[39;00m\u001b[38;5;124m\"\u001b[39m)\n",
      "\u001b[1;31mAttributeError\u001b[0m: module 'matplotlib' has no attribute 'title'"
     ]
    },
    {
     "data": {
      "image/png": "[encoded data removed]",
      "text/plain": [
       "<Figure size 640x480 with 1 Axes>"
      ]
     },
     "metadata": {},
     "output_type": "display_data"
    }
   ],
   "source": [
    "sns.barplot(x='Username' , y='Suscribers' , data=n , color='pink')\n",
    "plt.title('Top 5 YouTube Channels by Suscribers')\n",
    "plt.xlabel('YouTube Channels Username')\n",
    "plt.ylabel('Subscribers')\n",
    "plt.show()"
   ]
  },
  {
   "cell_type": "code",
   "execution_count": 37,
   "id": "8b4b79e0-2263-44e7-ad7f-daa63e2c25e3",
   "metadata": {},
   "outputs": [],
   "source": [
    "#top youtube categories"
   ]
  },
  {
   "cell_type": "code",
   "execution_count": 38,
   "id": "4c74ca7b-6f38-4aa5-8032-82938b321878",
   "metadata": {},
   "outputs": [
    {
     "data": {
      "text/plain": [
       "Categories\n",
       "Música y baile               160\n",
       "Películas, Animación          61\n",
       "Música y baile, Películas     41\n",
       "Vlogs diarios                 37\n",
       "Noticias y Política           36\n",
       "Name: count, dtype: int64"
      ]
     },
     "execution_count": 38,
     "metadata": {},
     "output_type": "execute_result"
    }
   ],
   "source": [
    "temp= data[data['Categories']!='Unknown']\n",
    "temp.Categories.value_counts().head(5)"
   ]
  },
  {
   "cell_type": "code",
   "execution_count": 39,
   "id": "d6818560-6297-4c55-b6b9-9160a0decbcf",
   "metadata": {},
   "outputs": [
    {
     "data": {
      "text/plain": [
       "<Axes: xlabel='Categories'>"
      ]
     },
     "execution_count": 39,
     "metadata": {},
     "output_type": "execute_result"
    },
    {
     "data": {
      "image/png": "[encoded data removed]",
      "text/plain": [
       "<Figure size 640x480 with 1 Axes>"
      ]
     },
     "metadata": {},
     "output_type": "display_data"
    }
   ],
   "source": [
    "temp.Categories.value_counts().head(5).plot(kind='bar' , color='pink' , width=0.7)"
   ]
  },
  {
   "cell_type": "code",
   "execution_count": 40,
   "id": "df352943-2165-4527-bc24-6a8f4f45142e",
   "metadata": {},
   "outputs": [],
   "source": [
    "#correlation between all the continuous columns"
   ]
  },
  {
   "cell_type": "code",
   "execution_count": 46,
   "id": "bdf11092-74de-4fe9-91e1-1c2fea560bdb",
   "metadata": {},
   "outputs": [
    {
     "data": {
      "image/png": "[encoded data removed]",
      "text/plain": [
       "<Figure size 600x400 with 2 Axes>"
      ]
     },
     "metadata": {},
     "output_type": "display_data"
    }
   ],
   "source": [
    "import pandas as pd\n",
    "import seaborn as sns\n",
    "import matplotlib.pyplot as plt\n",
    "\n",
    "# Example DataFrame (replace with your actual data)\n",
    "data = pd.DataFrame({\n",
    "    'A': [1, 2, 3, 4],\n",
    "    'B': [4, 5, 6, 'tseries'],\n",
    "    'C': [7, 8, 9, 10]\n",
    "})\n",
    "\n",
    "# Convert columns to numeric, coercing errors\n",
    "data_numeric = data.apply(pd.to_numeric, errors='coerce')\n",
    "\n",
    "# Drop columns that still contain non-numeric values\n",
    "data_numeric = data_numeric.dropna(axis=1, how='any')\n",
    "\n",
    "# Check if any columns are left after dropping non-numeric ones\n",
    "if data_numeric.shape[1] == 0:\n",
    "    print(\"No numeric columns available for correlation.\")\n",
    "else:\n",
    "    # Calculate correlation\n",
    "    correlation = data_numeric.corr()\n",
    "\n",
    "    # Plot heatmap\n",
    "    plt.figure(figsize=(6, 4), dpi=100)\n",
    "    plt.title(\"Correlation between metrics\")\n",
    "    sns.heatmap(correlation, annot=True, fmt=\".2f\", linewidth=.5)\n",
    "    plt.show()"
   ]
  },
  {
   "cell_type": "code",
   "execution_count": 47,
   "id": "3f1358f5-97cf-4644-9e47-608635896e26",
   "metadata": {},
   "outputs": [],
   "source": [
    "#youtube channels by country"
   ]
  },
  {
   "cell_type": "code",
   "execution_count": 51,
   "id": "0d965066-4413-4a97-bcf5-910823397c1b",
   "metadata": {},
   "outputs": [
    {
     "data": {
      "image/png": "[encoded data removed]",
      "text/plain": [
       "<Figure size 640x480 with 2 Axes>"
      ]
     },
     "metadata": {},
     "output_type": "display_data"
    }
   ],
   "source": [
    "sns.heatmap(correlation, annot=True, cmap='coolwarm')\n",
    "plt.title('Correlation Between Subscribers, Likes, and Comments')\n",
    "plt.show()"
   ]
  },
  {
   "cell_type": "code",
   "execution_count": 61,
   "id": "695fee02-64bb-488a-8f5a-163c918dc52e",
   "metadata": {},
   "outputs": [],
   "source": [
    "#Audience Study"
   ]
  },
  {
   "cell_type": "code",
   "execution_count": 65,
   "id": "5b232184-f2e2-4928-b19a-92fd0a2ec7a9",
   "metadata": {},
   "outputs": [
    {
     "name": "stdout",
     "output_type": "stream",
     "text": [
      "Columns in DataFrame: Index(['Country', 'Comments', 'Username'], dtype='object')\n",
      "First few rows of the DataFrame:\n",
      "  Country  Comments Username\n",
      "0     USA        10    user1\n",
      "1  Canada        20    user2\n",
      "2     USA        30    user3\n",
      "3  Canada        40    user4\n",
      "4     USA        50    user5\n",
      "Audience by Country:\n",
      "Country\n",
      "USA       3\n",
      "Canada    2\n",
      "Name: count, dtype: int64\n"
     ]
    }
   ],
   "source": [
    "import pandas as pd\n",
    "\n",
    "# Example DataFrame loading (replace with your actual data loading code)\n",
    "# data = pd.read_csv('your_file.csv')  # Uncomment and replace with your file\n",
    "\n",
    "# For this example, let's create a dummy DataFrame\n",
    "data = pd.DataFrame({\n",
    "    'Country': ['USA', 'Canada', 'USA', 'Canada', 'USA'],\n",
    "    'Comments': [10, 20, 30, 40, 50],\n",
    "    'Username': ['user1', 'user2', 'user3', 'user4', 'user5']\n",
    "})\n",
    "\n",
    "# Print column names to verify\n",
    "print(\"Columns in DataFrame:\", data.columns)\n",
    "\n",
    "# Print the first few rows to inspect the data\n",
    "print(\"First few rows of the DataFrame:\")\n",
    "print(data.head())\n",
    "\n",
    "# Calculate the audience by country if 'Country' column exists\n",
    "if 'Country' in data.columns:\n",
    "    audience_by_Country = data['Country'].value_counts()\n",
    "    print(\"Audience by Country:\")\n",
    "    print(audience_by_Country)\n",
    "else:\n",
    "    print(\"The column 'Country' does not exist in the DataFrame.\")\n"
   ]
  },
  {
   "cell_type": "code",
   "execution_count": 67,
   "id": "a3968c78-a22d-4b19-8919-f433fa8d6936",
   "metadata": {},
   "outputs": [
    {
     "name": "stdout",
     "output_type": "stream",
     "text": [
      "Columns in DataFrame: Index(['Country', 'Comments', 'Username'], dtype='object')\n",
      "First few rows of the DataFrame:\n",
      "  Country  Comments Username\n",
      "0     USA        10    user1\n",
      "1  Canada        20    user2\n",
      "2     USA        30    user3\n",
      "3  Canada        40    user4\n",
      "4     USA        50    user5\n",
      "Audience by Country:\n",
      "Country\n",
      "USA       3\n",
      "Canada    2\n",
      "Name: count, dtype: int64\n"
     ]
    }
   ],
   "source": [
    "# Print columns and first few rows for debugging\n",
    "print(\"Columns in DataFrame:\", data.columns)\n",
    "print(\"First few rows of the DataFrame:\")\n",
    "print(data.head())\n",
    "\n",
    "# Check if 'Country' exists and calculate value counts\n",
    "try:\n",
    "    audience_by_Country = data['Country'].value_counts()\n",
    "    print(\"Audience by Country:\")\n",
    "    print(audience_by_Country)\n",
    "except KeyError as e:\n",
    "    print(f\"KeyError: {e} - The column 'Country' does not exist. Please check the column names.\")\n"
   ]
  },
  {
   "cell_type": "code",
   "execution_count": 69,
   "id": "9578153f-bfaf-41ce-860c-a6c5075250eb",
   "metadata": {},
   "outputs": [],
   "source": [
    "audience_by_Country = data['Country'].value_counts()"
   ]
  },
  {
   "cell_type": "code",
   "execution_count": 73,
   "id": "e6b6a9b0-338c-4ceb-bed7-4c9c59e1b953",
   "metadata": {},
   "outputs": [
    {
     "ename": "NameError",
     "evalue": "name 'audience_by_country' is not defined",
     "output_type": "error",
     "traceback": [
      "\u001b[1;31m---------------------------------------------------------------------------\u001b[0m",
      "\u001b[1;31mNameError\u001b[0m                                 Traceback (most recent call last)",
      "Cell \u001b[1;32mIn[73], line 2\u001b[0m\n\u001b[0;32m      1\u001b[0m plt\u001b[38;5;241m.\u001b[39mfigure(figsize\u001b[38;5;241m=\u001b[39m(\u001b[38;5;241m12\u001b[39m,\u001b[38;5;241m6\u001b[39m))\n\u001b[1;32m----> 2\u001b[0m sns\u001b[38;5;241m.\u001b[39mbarplot(x\u001b[38;5;241m=\u001b[39maudience_by_country\u001b[38;5;241m.\u001b[39mindex, y\u001b[38;5;241m=\u001b[39maudience_by_country\u001b[38;5;241m.\u001b[39mvalues)\n\u001b[0;32m      3\u001b[0m plt\u001b[38;5;241m.\u001b[39mxticks(rotation\u001b[38;5;241m=\u001b[39m\u001b[38;5;241m90\u001b[39m)\n\u001b[0;32m      4\u001b[0m plt\u001b[38;5;241m.\u001b[39mtitle(\u001b[38;5;124m'\u001b[39m\u001b[38;5;124mDistribution of Audiences by Country\u001b[39m\u001b[38;5;124m'\u001b[39m)\n",
      "\u001b[1;31mNameError\u001b[0m: name 'audience_by_country' is not defined"
     ]
    },
    {
     "data": {
      "text/plain": [
       "<Figure size 1200x600 with 0 Axes>"
      ]
     },
     "metadata": {},
     "output_type": "display_data"
    }
   ],
   "source": [
    "plt.figure(figsize=(12,6))\n",
    "sns.barplot(x=audience_by_country.index, y=audience_by_country.values)\n",
    "plt.xticks(rotation=90)\n",
    "plt.title('Distribution of Audiences by Country')\n",
    "plt.xlabel('Country')\n",
    "plt.ylabel('Number of Streamers')\n",
    "plt.show()"
   ]
  },
  {
   "cell_type": "code",
   "execution_count": 75,
   "id": "e5e004b2-0ec5-4588-99fa-2f8e60113e2a",
   "metadata": {},
   "outputs": [],
   "source": [
    "#performance metrics"
   ]
  },
  {
   "cell_type": "code",
   "execution_count": 86,
   "id": "672b2a9a-6c58-49e6-a70e-622a1f318941",
   "metadata": {},
   "outputs": [
    {
     "name": "stdout",
     "output_type": "stream",
     "text": [
      "Columns in DataFrame: Index(['subscribers', 'visits', 'likes', 'comments'], dtype='object')\n",
      "Average Subscribers: 187.50\n",
      "Average Visits: 1325.00\n",
      "Average Likes: 72.50\n",
      "Average Comments: 17.50\n"
     ]
    }
   ],
   "source": [
    "import pandas as pd\n",
    "\n",
    "# Example DataFrame (replace with your actual data loading code)\n",
    "# data = pd.read_csv('your_file.csv')  # Uncomment and replace with your file\n",
    "\n",
    "# For this example, let's create a dummy DataFrame\n",
    "data = pd.DataFrame({\n",
    "    'subscribers': [100, 200, 150, 300],\n",
    "    'visits': [1000, 1500, 1200, 1600],\n",
    "    'likes': [50, 80, 70, 90],\n",
    "    'comments': [10, 20, 15, 25]\n",
    "})\n",
    "\n",
    "# Print column names to verify\n",
    "print(\"Columns in DataFrame:\", data.columns)\n",
    "\n",
    "# Check if each column exists and calculate the mean\n",
    "if 'subscribers' in data.columns:\n",
    "    avg_subscribers = data['subscribers'].mean()\n",
    "    print(f'Average Subscribers: {avg_subscribers:.2f}')\n",
    "else:\n",
    "    print(\"The column 'subscribers' does not exist in the DataFrame.\")\n",
    "\n",
    "if 'visits' in data.columns:\n",
    "    avg_visits = data['visits'].mean()\n",
    "    print(f'Average Visits: {avg_visits:.2f}')\n",
    "else:\n",
    "    print(\"The column 'visits' does not exist in the DataFrame.\")\n",
    "\n",
    "if 'likes' in data.columns:\n",
    "    avg_likes = data['likes'].mean()\n",
    "    print(f'Average Likes: {avg_likes:.2f}')\n",
    "else:\n",
    "    print(\"The column 'likes' does not exist in the DataFrame.\")\n",
    "\n",
    "if 'comments' in data.columns:\n",
    "    avg_comments = data['comments'].mean()\n",
    "    print(f'Average Comments: {avg_comments:.2f}')\n",
    "else:\n",
    "    print(\"The column 'comments' does not exist in the DataFrame.\")\n"
   ]
  },
  {
   "cell_type": "code",
   "execution_count": 88,
   "id": "bc755f07-43bc-4b28-8050-5263f79e5455",
   "metadata": {},
   "outputs": [
    {
     "name": "stdout",
     "output_type": "stream",
     "text": [
      "Average subscribers: 187.50\n",
      "Average Visits: 1325.00\n",
      "Average Likes: 72.50\n",
      "Average Comments: 17.50\n"
     ]
    }
   ],
   "source": [
    "avg_subscribers = data['subscribers'].mean()\n",
    "avg_visits = data['visits'].mean()\n",
    "avg_likes = data['likes'].mean()\n",
    "avg_comments = data['comments'].mean()\n",
    "\n",
    "print(f'Average subscribers: {avg_subscribers:.2f}')\n",
    "print(f'Average Visits: {avg_visits:.2f}')\n",
    "print(f'Average Likes: {avg_likes:.2f}')\n",
    "print(f'Average Comments: {avg_comments:.2f}')"
   ]
  },
  {
   "cell_type": "code",
   "execution_count": 89,
   "id": "e1be7e1d-f874-405b-8032-b3ad72fe3958",
   "metadata": {},
   "outputs": [
    {
     "name": "stderr",
     "output_type": "stream",
     "text": [
      "C:\\Users\\AKASH KUMAR SINGH\\anaconda3\\Lib\\site-packages\\seaborn\\_oldcore.py:1765: FutureWarning: unique with argument that is not not a Series, Index, ExtensionArray, or np.ndarray is deprecated and will raise in a future version.\n",
      "  order = pd.unique(vector)\n"
     ]
    },
    {
     "data": {
      "image/png": "[encoded data removed]",
      "text/plain": [
       "<Figure size 1000x600 with 1 Axes>"
      ]
     },
     "metadata": {},
     "output_type": "display_data"
    }
   ],
   "source": [
    "plt.figure(figsize=(10, 6))\n",
    "sns.barplot(x=['Subscribers', 'Visits', 'Likes', 'Comments'], y=[avg_subscribers, avg_visits, avg_likes, avg_comments])\n",
    "plt.title('Performance Metrics')\n",
    "plt.xlabel('Metric')\n",
    "plt.ylabel('Average Value')\n",
    "plt.show()"
   ]
  },
  {
   "cell_type": "code",
   "execution_count": 90,
   "id": "b8c6e221-f024-429d-8758-90d7dba1b711",
   "metadata": {},
   "outputs": [],
   "source": [
    "#content categories"
   ]
  },
  {
   "cell_type": "code",
   "execution_count": 92,
   "id": "09d23262-6f02-4935-80a0-9bf1c6cb30c7",
   "metadata": {},
   "outputs": [
    {
     "name": "stdout",
     "output_type": "stream",
     "text": [
      "The column 'Categories' does not exist in the DataFrame.\n"
     ]
    }
   ],
   "source": [
    "# Verify column names and calculate category counts\n",
    "column_name = 'Categories'\n",
    "\n",
    "if column_name in data.columns:\n",
    "    category_counts = data[column_name].value_counts()\n",
    "    print(\"Category Counts:\")\n",
    "    print(category_counts)\n",
    "else:\n",
    "    print(f\"The column '{column_name}' does not exist in the DataFrame.\")\n"
   ]
  },
  {
   "cell_type": "code",
   "execution_count": 93,
   "id": "5a0c80f1-c0b5-400a-afc6-618e4cc49d8f",
   "metadata": {},
   "outputs": [
    {
     "name": "stdout",
     "output_type": "stream",
     "text": [
      "Updated DataFrame:\n",
      "   Values Categories\n",
      "0     100       Tech\n",
      "1     200     Health\n",
      "2     150       Tech\n",
      "3     300    Finance\n",
      "4     250     Health\n"
     ]
    }
   ],
   "source": [
    "import pandas as pd\n",
    "\n",
    "# Example DataFrame (replace with your actual data loading code)\n",
    "# data = pd.read_csv('your_file.csv')  # Uncomment and replace with your actual data file\n",
    "\n",
    "# For this example, let's create a dummy DataFrame\n",
    "data = pd.DataFrame({\n",
    "    'Values': [100, 200, 150, 300, 250]\n",
    "})\n",
    "\n",
    "# Create a new column 'Categories' with assigned values\n",
    "data['Categories'] = ['Tech', 'Health', 'Tech', 'Finance', 'Health']\n",
    "\n",
    "# Print the DataFrame to verify the new column\n",
    "print(\"Updated DataFrame:\")\n",
    "print(data)\n"
   ]
  },
  {
   "cell_type": "code",
   "execution_count": 94,
   "id": "39a615b8-1ee2-4829-847d-8f4441033782",
   "metadata": {},
   "outputs": [
    {
     "name": "stdout",
     "output_type": "stream",
     "text": [
      "Categories\n",
      "Tech       2\n",
      "Health     2\n",
      "Finance    1\n",
      "Name: count, dtype: int64\n"
     ]
    }
   ],
   "source": [
    "category_counts = data['Categories'].value_counts()\n",
    "print(category_counts)"
   ]
  },
  {
   "cell_type": "code",
   "execution_count": 95,
   "id": "29dabd94-ed30-4e69-9434-d27bb2c5d28f",
   "metadata": {},
   "outputs": [
    {
     "data": {
      "image/png": "[encoded data removed]",
      "text/plain": [
       "<Figure size 1000x600 with 1 Axes>"
      ]
     },
     "metadata": {},
     "output_type": "display_data"
    }
   ],
   "source": [
    "plt.figure(figsize=(10, 6))\n",
    "sns.barplot(x=category_counts.index, y=category_counts.values)\n",
    "plt.title('Top 10 Categories')\n",
    "plt.xlabel('Category')\n",
    "plt.ylabel('Count')\n",
    "plt.show()"
   ]
  },
  {
   "cell_type": "code",
   "execution_count": 98,
   "id": "f66617f8-ae22-44a1-9c10-4bfaaec7b2dd",
   "metadata": {},
   "outputs": [
    {
     "name": "stdout",
     "output_type": "stream",
     "text": [
      "  Categories  Likes\n",
      "0    Finance  300.0\n",
      "1     Health  225.0\n",
      "2       Tech  125.0\n"
     ]
    }
   ],
   "source": [
    "import pandas as pd\n",
    "\n",
    "# Example DataFrame (replace with your actual data loading code)\n",
    "# data = pd.read_csv('your_file.csv')  # Uncomment and replace with your actual data file\n",
    "\n",
    "# For this example, let's create a dummy DataFrame\n",
    "data = pd.DataFrame({\n",
    "    'Categories': ['Tech', 'Health', 'Tech', 'Finance', 'Health'],\n",
    "    'Likes': [100, 200, 150, 300, 250]\n",
    "})\n",
    "\n",
    "# Calculate the mean likes for each category\n",
    "mean_likes = data.groupby('Categories')['Likes'].mean()\n",
    "\n",
    "# Find the top 5 categories with the highest mean likes\n",
    "top_likes = mean_likes.nlargest(5).reset_index()\n",
    "\n",
    "# Print the top categories with the highest mean likes\n",
    "print(top_likes)\n"
   ]
  },
  {
   "cell_type": "code",
   "execution_count": 99,
   "id": "b9a647da-634a-4926-99ae-42d069c439ed",
   "metadata": {},
   "outputs": [
    {
     "name": "stdout",
     "output_type": "stream",
     "text": [
      "  Categories  Likes\n",
      "0    Finance  300.0\n",
      "1     Health  225.0\n",
      "2       Tech  125.0\n"
     ]
    }
   ],
   "source": [
    "mean_likes = data.groupby('Categories')['Likes'].mean()\n",
    "top_likes = mean_likes.nlargest(5).reset_index()\n",
    "print(top_likes)"
   ]
  },
  {
   "cell_type": "code",
   "execution_count": 102,
   "id": "d4252cdc-e111-495a-99db-1535a62e1f03",
   "metadata": {},
   "outputs": [
    {
     "name": "stdout",
     "output_type": "stream",
     "text": [
      "  Categories  visits\n",
      "0    Finance  3000.0\n",
      "1     Health  2250.0\n",
      "2       Tech  1250.0\n"
     ]
    }
   ],
   "source": [
    "import pandas as pd\n",
    "\n",
    "# Example DataFrame (replace with your actual data loading code)\n",
    "# data = pd.read_csv('your_file.csv')  # Uncomment and replace with your actual data file\n",
    "\n",
    "# For this example, let's create a dummy DataFrame\n",
    "data = pd.DataFrame({\n",
    "    'Categories': ['Tech', 'Health', 'Tech', 'Finance', 'Health'],\n",
    "    'visits': [1000, 2000, 1500, 3000, 2500]\n",
    "})\n",
    "\n",
    "# Calculate the mean visits for each category\n",
    "mean_visits = data.groupby('Categories')['visits'].mean()\n",
    "\n",
    "# Find the top 5 categories with the highest mean visits\n",
    "top_visits = mean_visits.nlargest(5).reset_index()\n",
    "\n",
    "# Print the top categories with the highest mean visits\n",
    "print(top_visits)\n"
   ]
  },
  {
   "cell_type": "code",
   "execution_count": 109,
   "id": "f56592b8-c865-44cc-84e5-15b334686bcb",
   "metadata": {},
   "outputs": [
    {
     "name": "stdout",
     "output_type": "stream",
     "text": [
      "  Categories  Comments\n",
      "0    Finance      30.0\n",
      "1     Health      22.5\n",
      "2       Tech      12.5\n"
     ]
    }
   ],
   "source": [
    "import pandas as pd\n",
    "\n",
    "# Example DataFrame (replace with your actual data loading code)\n",
    "# data = pd.read_csv('your_file.csv')  # Uncomment and replace with your actual data file\n",
    "\n",
    "# For this example, let's create a dummy DataFrame\n",
    "data = pd.DataFrame({\n",
    "    'Categories': ['Tech', 'Health', 'Tech', 'Finance', 'Health'],\n",
    "    'Comments': [10, 20, 15, 30, 25]\n",
    "})\n",
    "\n",
    "# Calculate the mean comments for each category\n",
    "mean_comments = data.groupby('Categories')['Comments'].mean()\n",
    "\n",
    "# Find the top 5 categories with the highest mean comments\n",
    "top_comments = mean_comments.nlargest(5).reset_index()\n",
    "\n",
    "# Print the top categories with the highest mean comments\n",
    "print(top_comments)\n"
   ]
  },
  {
   "cell_type": "code",
   "execution_count": 110,
   "id": "522864a4-a7dc-4ee8-9653-52c6c24a93af",
   "metadata": {},
   "outputs": [
    {
     "name": "stdout",
     "output_type": "stream",
     "text": [
      "  Categories  Comments\n",
      "0    Finance      30.0\n",
      "1     Health      22.5\n",
      "2       Tech      12.5\n"
     ]
    }
   ],
   "source": [
    "mean_comments = data.groupby('Categories')['Comments'].mean()\n",
    "top_comments = mean_comments.nlargest(5).reset_index()\n",
    "print(top_comments)"
   ]
  },
  {
   "cell_type": "code",
   "execution_count": 111,
   "id": "8db070f0-8908-4354-af4c-91f470cf2056",
   "metadata": {},
   "outputs": [],
   "source": [
    "#brands and collaborations"
   ]
  },
  {
   "cell_type": "code",
   "execution_count": 113,
   "id": "bba4a6b3-baf3-417d-a7b2-a8e199e5d0fc",
   "metadata": {},
   "outputs": [
    {
     "name": "stdout",
     "output_type": "stream",
     "text": [
      "                      Subscribers  Likes  Comments  Brand Collaborations  \\\n",
      "Subscribers                   1.0    0.7       0.9                   0.7   \n",
      "Likes                         0.7    1.0       0.4                   1.0   \n",
      "Comments                      0.9    0.4       1.0                   0.4   \n",
      "Brand Collaborations          0.7    1.0       0.4                   1.0   \n",
      "Marketing Campaigns          -0.1   -0.4       0.3                  -0.4   \n",
      "\n",
      "                      Marketing Campaigns  \n",
      "Subscribers                          -0.1  \n",
      "Likes                                -0.4  \n",
      "Comments                              0.3  \n",
      "Brand Collaborations                 -0.4  \n",
      "Marketing Campaigns                   1.0  \n"
     ]
    }
   ],
   "source": [
    "import pandas as pd\n",
    "\n",
    "# Example DataFrame (replace with your actual data loading code)\n",
    "# data = pd.read_csv('your_file.csv')  # Uncomment and replace with your actual data file\n",
    "\n",
    "# For this example, let's create a dummy DataFrame\n",
    "data = pd.DataFrame({\n",
    "    'Subscribers': [1000, 2000, 1500, 3000, 2500],\n",
    "    'Likes': [50, 80, 70, 90, 60],\n",
    "    'Comments': [10, 20, 15, 25, 30],\n",
    "    'Brand Collaborations': [5, 8, 7, 9, 6],\n",
    "    'Marketing Campaigns': [2, 3, 4, 1, 5]\n",
    "})\n",
    "\n",
    "# Correct the column names\n",
    "# If your column names have spaces or special characters, make sure to handle them accordingly\n",
    "# For this example, I assume the column names are as given\n",
    "corr_matrix = data[['Subscribers', 'Likes', 'Comments', 'Brand Collaborations', 'Marketing Campaigns']].corr()\n",
    "\n",
    "# Print the correlation matrix\n",
    "print(corr_matrix)\n"
   ]
  },
  {
   "cell_type": "code",
   "execution_count": 114,
   "id": "234186ed-bec6-447b-903b-9b546fe19e1e",
   "metadata": {},
   "outputs": [
    {
     "name": "stdout",
     "output_type": "stream",
     "text": [
      "                      Subscribers  Likes  Comments  Brand Collaborations  \\\n",
      "Subscribers                   1.0    0.7       0.9                   0.7   \n",
      "Likes                         0.7    1.0       0.4                   1.0   \n",
      "Comments                      0.9    0.4       1.0                   0.4   \n",
      "Brand Collaborations          0.7    1.0       0.4                   1.0   \n",
      "Marketing Campaigns          -0.1   -0.4       0.3                  -0.4   \n",
      "\n",
      "                      Marketing Campaigns  \n",
      "Subscribers                          -0.1  \n",
      "Likes                                -0.4  \n",
      "Comments                              0.3  \n",
      "Brand Collaborations                 -0.4  \n",
      "Marketing Campaigns                   1.0  \n"
     ]
    }
   ],
   "source": [
    "corr_matrix = data[['Subscribers', 'Likes', 'Comments', 'Brand Collaborations', 'Marketing Campaigns']].corr()\n",
    "print(corr_matrix)"
   ]
  },
  {
   "cell_type": "code",
   "execution_count": 115,
   "id": "98d726e5-103e-4974-8fdb-8840c6038d4f",
   "metadata": {},
   "outputs": [],
   "source": [
    "#benchmarking"
   ]
  },
  {
   "cell_type": "code",
   "execution_count": 118,
   "id": "f392ab5c-b718-4078-ad9d-057e56818ec4",
   "metadata": {},
   "outputs": [
    {
     "name": "stdout",
     "output_type": "stream",
     "text": [
      "   Subscribers  Visits  Likes  Comments\n",
      "3         3000    7000     90        25\n"
     ]
    }
   ],
   "source": [
    "import pandas as pd\n",
    "\n",
    "# Example DataFrame (replace with your actual data loading code)\n",
    "# data = pd.read_csv('your_file.csv')  # Uncomment and replace with your actual data file\n",
    "\n",
    "# For this example, let's create a dummy DataFrame\n",
    "data = pd.DataFrame({\n",
    "    'Subscribers': [1000, 2000, 1500, 3000, 2500],\n",
    "    'Visits': [5000, 6000, 5500, 7000, 6500],\n",
    "    'Likes': [50, 80, 70, 90, 60],\n",
    "    'Comments': [10, 20, 15, 25, 30]\n",
    "})\n",
    "\n",
    "# Calculate average values\n",
    "avg_subscribers = data['Subscribers'].mean()\n",
    "avg_visits = data['Visits'].mean()\n",
    "avg_likes = data['Likes'].mean()\n",
    "avg_comments = data['Comments'].mean()\n",
    "\n",
    "# Filter top streamers based on average values\n",
    "top_streamers = data[(data['Subscribers'] > avg_subscribers) & \n",
    "                     (data['Visits'] > avg_visits) & \n",
    "                     (data['Likes'] > avg_likes) & \n",
    "                     (data['Comments'] > avg_comments)]\n",
    "\n",
    "# Print the top streamers\n",
    "print(top_streamers)\n"
   ]
  },
  {
   "cell_type": "code",
   "execution_count": 119,
   "id": "1f9332a2-cc0f-42ce-af86-d9b4feb08227",
   "metadata": {},
   "outputs": [
    {
     "name": "stdout",
     "output_type": "stream",
     "text": [
      "   Subscribers  Visits  Likes  Comments\n",
      "3         3000    7000     90        25\n"
     ]
    }
   ],
   "source": [
    "top_streamers = data[(data['Subscribers'] > avg_subscribers) & (data['Visits'] > avg_visits) & (data['Likes'] > avg_likes) & (data['Comments'] > avg_comments)]\n",
    "print(top_streamers)"
   ]
  },
  {
   "cell_type": "code",
   "execution_count": 120,
   "id": "2df231a3-e76f-4f01-ae61-4736750273ea",
   "metadata": {},
   "outputs": [],
   "source": [
    "#content recommendations"
   ]
  },
  {
   "cell_type": "code",
   "execution_count": 132,
   "id": "b94f6597-851c-49c5-a8cf-0a675257cf1e",
   "metadata": {},
   "outputs": [
    {
     "name": "stdout",
     "output_type": "stream",
     "text": [
      "  Categories  Subscribers  Visits  Likes  Comments  Similarity\n",
      "0     Gaming       100000    5000    500       100  -15.340841\n",
      "1     Gaming       200000   10000    800       200  -15.340841\n",
      "3     Gaming       300000   15000    900       250  -15.340841\n",
      "5     Gaming       400000   20000   1000       300  -15.340841\n",
      "6     Gaming       350000   17500   1200       225  -15.340841\n",
      "8     Gaming       500000   25000   1600       275  -15.340841\n"
     ]
    }
   ],
   "source": [
    "import pandas as pd\n",
    "\n",
    "# Example DataFrame (replace with your actual data loading code)\n",
    "# data = pd.read_csv('your_file.csv')  # Uncomment and replace with your actual data file\n",
    "\n",
    "# For this example, let's create a dummy DataFrame\n",
    "data = pd.DataFrame({\n",
    "    'Categories': ['Gaming', 'Gaming', 'Tech', 'Gaming', 'Tech', 'Gaming', 'Gaming', 'Tech', 'Gaming', 'Tech'],\n",
    "    'Subscribers': [100000, 200000, 150000, 300000, 250000, 400000, 350000, 450000, 500000, 600000],\n",
    "    'Visits': [5000, 10000, 7500, 15000, 12500, 20000, 17500, 22500, 25000, 30000],\n",
    "    'Likes': [500, 800, 700, 900, 600, 1000, 1200, 1400, 1600, 1800],\n",
    "    'Comments': [100, 200, 150, 250, 175, 300, 225, 350, 275, 400]\n",
    "})\n",
    "\n",
    "def recommend_content(user_category, user_performance_metrics):\n",
    "    # Get the top 10 streamers in the user's category\n",
    "    top_streamers = data[data['Categories'] == user_category].head(10)\n",
    "\n",
    "    # Get the average performance metrics for the top streamers\n",
    "    avg_performance_metrics = top_streamers[['Subscribers', 'Visits', 'Likes', 'Comments']].mean()\n",
    "\n",
    "    # Convert user_performance_metrics to a Series\n",
    "    user_performance_metrics = pd.Series(user_performance_metrics, index=['Subscribers', 'Visits', 'Likes', 'Comments'])\n",
    "\n",
    "    # Calculate the similarity between the user's performance metrics and the average performance metrics\n",
    "    similarity = 1 - (abs(user_performance_metrics - avg_performance_metrics) / avg_performance_metrics)\n",
    "\n",
    "    # Add similarity scores to top_streamers DataFrame\n",
    "    top_streamers['Similarity'] = similarity.mean()\n",
    "\n",
    "    # Return the top 10 streamers with the highest similarity\n",
    "    return top_streamers.sort_values(by='Similarity', ascending=False).head(10)\n",
    "\n",
    "# Example usage\n",
    "user_category = 'Gaming'\n",
    "user_performance_metrics = [100000, 50000, 20000, 10000]\n",
    "recommended_streamers = recommend_content(user_category, user_performance_metrics)\n",
    "\n",
    "print(recommended_streamers)\n"
   ]
  },
  {
   "cell_type": "code",
   "execution_count": 133,
   "id": "507cb8ef-6f52-404d-8601-a0640853fef5",
   "metadata": {},
   "outputs": [
    {
     "name": "stdout",
     "output_type": "stream",
     "text": [
      "  Categories  Subscribers  Visits  Likes  Comments  Similarity\n",
      "0     Gaming       100000    5000    500       100  -15.340841\n",
      "1     Gaming       200000   10000    800       200  -15.340841\n",
      "3     Gaming       300000   15000    900       250  -15.340841\n",
      "5     Gaming       400000   20000   1000       300  -15.340841\n",
      "6     Gaming       350000   17500   1200       225  -15.340841\n",
      "8     Gaming       500000   25000   1600       275  -15.340841\n"
     ]
    }
   ],
   "source": [
    "# Example usage\n",
    "user_category = 'Gaming'\n",
    "user_performance_metrics = [100000, 50000, 20000, 10000]\n",
    "recommended_streamers = recommend_content(user_category, user_performance_metrics)\n",
    "print(recommended_streamers)"
   ]
  },
  {
   "cell_type": "code",
   "execution_count": null,
   "id": "318d08b6-ce7c-40b7-ad99-3b46e0205c81",
   "metadata": {},
   "outputs": [],
   "source": []
  }
 ],
 "metadata": {
  "kernelspec": {
   "display_name": "Python 3 (ipykernel)",
   "language": "python",
   "name": "python3"
  },
  "language_info": {
   "codemirror_mode": {
    "name": "ipython",
    "version": 3
   },
   "file_extension": ".py",
   "mimetype": "text/x-python",
   "name": "python",
   "nbconvert_exporter": "python",
   "pygments_lexer": "ipython3",
   "version": "3.11.9"
  }
 },
 "nbformat": 4,
 "nbformat_minor": 5
}
